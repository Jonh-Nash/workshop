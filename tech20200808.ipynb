{
  "nbformat": 4,
  "nbformat_minor": 0,
  "metadata": {
    "colab": {
      "name": "tech20200808.ipynb",
      "provenance": [],
      "collapsed_sections": []
    },
    "kernelspec": {
      "name": "python3",
      "display_name": "Python 3"
    }
  },
  "cells": [
    {
      "cell_type": "markdown",
      "metadata": {
        "id": "jOFWLhtfGiR9",
        "colab_type": "text"
      },
      "source": [
        "# 準備する"
      ]
    },
    {
      "cell_type": "markdown",
      "metadata": {
        "id": "hfB97pvBGF4a",
        "colab_type": "text"
      },
      "source": [
        "ライブラリの読み込み"
      ]
    },
    {
      "cell_type": "code",
      "metadata": {
        "id": "UJGDE8nwD7Yo",
        "colab_type": "code",
        "colab": {}
      },
      "source": [
        "from google.colab import drive\n",
        "import pandas as pd\n",
        "import numpy as np\n",
        "import requests\n",
        "import json"
      ],
      "execution_count": null,
      "outputs": []
    },
    {
      "cell_type": "markdown",
      "metadata": {
        "id": "tj1I1sk9F88N",
        "colab_type": "text"
      },
      "source": [
        "Google Driveのマウント"
      ]
    },
    {
      "cell_type": "code",
      "metadata": {
        "id": "jTEleYzNEA6d",
        "colab_type": "code",
        "colab": {
          "base_uri": "https://localhost:8080/",
          "height": 122
        },
        "outputId": "5b10c81d-ded9-4cdb-edce-4e6240eee29f"
      },
      "source": [
        "drive.mount('/content/drive')"
      ],
      "execution_count": null,
      "outputs": [
        {
          "output_type": "stream",
          "text": [
            "Go to this URL in a browser: https://accounts.google.com/o/oauth2/auth?client_id=947318989803-6bn6qk8qdgf4n4g3pfee6491hc0brc4i.apps.googleusercontent.com&redirect_uri=urn%3aietf%3awg%3aoauth%3a2.0%3aoob&response_type=code&scope=email%20https%3a%2f%2fwww.googleapis.com%2fauth%2fdocs.test%20https%3a%2f%2fwww.googleapis.com%2fauth%2fdrive%20https%3a%2f%2fwww.googleapis.com%2fauth%2fdrive.photos.readonly%20https%3a%2f%2fwww.googleapis.com%2fauth%2fpeopleapi.readonly\n",
            "\n",
            "Enter your authorization code:\n",
            "··········\n",
            "Mounted at /content/drive\n"
          ],
          "name": "stdout"
        }
      ]
    },
    {
      "cell_type": "markdown",
      "metadata": {
        "id": "TEZhCGlDGoaS",
        "colab_type": "text"
      },
      "source": [
        "# ローカル上のデータを読み書きする"
      ]
    },
    {
      "cell_type": "markdown",
      "metadata": {
        "id": "NYUI_njj0FBA",
        "colab_type": "text"
      },
      "source": [
        "データフレームの作成\n",
        "\n",
        "\n",
        "> 今回は深くは説明しません。データフレームというのは、RやPythonなどのプログラミング言語で、表形式をうまく扱うために生まれたデータ形式のことです。\n",
        "\n"
      ]
    },
    {
      "cell_type": "code",
      "metadata": {
        "id": "kWZJu3Eu0IL4",
        "colab_type": "code",
        "colab": {
          "base_uri": "https://localhost:8080/",
          "height": 142
        },
        "outputId": "c98f4b96-5c1f-4332-c436-4d2434ce7a80"
      },
      "source": [
        "df1 = pd.DataFrame({'A': ['A1', 'A2', 'A3'],\n",
        "                   'B': ['B1', 'B2', 'B3'],\n",
        "                   'C': ['C1', 'C2', 'C3']},\n",
        "                  index=['ONE', 'TWO', 'THREE'])\n",
        "df1"
      ],
      "execution_count": null,
      "outputs": [
        {
          "output_type": "execute_result",
          "data": {
            "text/html": [
              "<div>\n",
              "<style scoped>\n",
              "    .dataframe tbody tr th:only-of-type {\n",
              "        vertical-align: middle;\n",
              "    }\n",
              "\n",
              "    .dataframe tbody tr th {\n",
              "        vertical-align: top;\n",
              "    }\n",
              "\n",
              "    .dataframe thead th {\n",
              "        text-align: right;\n",
              "    }\n",
              "</style>\n",
              "<table border=\"1\" class=\"dataframe\">\n",
              "  <thead>\n",
              "    <tr style=\"text-align: right;\">\n",
              "      <th></th>\n",
              "      <th>A</th>\n",
              "      <th>B</th>\n",
              "      <th>C</th>\n",
              "    </tr>\n",
              "  </thead>\n",
              "  <tbody>\n",
              "    <tr>\n",
              "      <th>ONE</th>\n",
              "      <td>A1</td>\n",
              "      <td>B1</td>\n",
              "      <td>C1</td>\n",
              "    </tr>\n",
              "    <tr>\n",
              "      <th>TWO</th>\n",
              "      <td>A2</td>\n",
              "      <td>B2</td>\n",
              "      <td>C2</td>\n",
              "    </tr>\n",
              "    <tr>\n",
              "      <th>THREE</th>\n",
              "      <td>A3</td>\n",
              "      <td>B3</td>\n",
              "      <td>C3</td>\n",
              "    </tr>\n",
              "  </tbody>\n",
              "</table>\n",
              "</div>"
            ],
            "text/plain": [
              "        A   B   C\n",
              "ONE    A1  B1  C1\n",
              "TWO    A2  B2  C2\n",
              "THREE  A3  B3  C3"
            ]
          },
          "metadata": {
            "tags": []
          },
          "execution_count": 35
        }
      ]
    },
    {
      "cell_type": "markdown",
      "metadata": {
        "id": "X4jnrcCSGuTv",
        "colab_type": "text"
      },
      "source": [
        "データを書き出す\n",
        "\n",
        "\n",
        "\n",
        "> to_csv()というメソッドを使います。引数は文字列でファイルのPathをとります。\n",
        "\n"
      ]
    },
    {
      "cell_type": "code",
      "metadata": {
        "id": "6SwTL_0gHVTQ",
        "colab_type": "code",
        "colab": {}
      },
      "source": [
        "df1.to_csv(\"/content/drive/My Drive/df1.csv\")"
      ],
      "execution_count": null,
      "outputs": []
    },
    {
      "cell_type": "markdown",
      "metadata": {
        "id": "SxT0Dlr6GR6i",
        "colab_type": "text"
      },
      "source": [
        "データを読み込む\n",
        "\n",
        "\n",
        "> Pandasのread_csv()という関数を使います。引数は文字列でファイルのPathをとります。絶対Pathでも相対Pathでもかまいません。\n",
        "\n"
      ]
    },
    {
      "cell_type": "code",
      "metadata": {
        "id": "WDfgz6_9Gboh",
        "colab_type": "code",
        "colab": {}
      },
      "source": [
        "df2 = pd.read_csv(\"/content/drive/My Drive/df1.csv\",index_col=[0])\n",
        "df2 = pd.read_csv(\"../../df1.csv\",index_col=[0])"
      ],
      "execution_count": null,
      "outputs": []
    },
    {
      "cell_type": "markdown",
      "metadata": {
        "id": "xi5iFdhdGada",
        "colab_type": "text"
      },
      "source": [
        "データを変換する\n",
        "\n",
        "\n",
        "> appendというメソッドを使って新たな一列を結合します。"
      ]
    },
    {
      "cell_type": "code",
      "metadata": {
        "id": "c12o208f0rZY",
        "colab_type": "code",
        "colab": {}
      },
      "source": [
        "s = pd.Series(['A4', 'B4', 'C4'], index=df2.columns, name='FOUR')\n",
        "df3 = df2.append(s)"
      ],
      "execution_count": null,
      "outputs": []
    },
    {
      "cell_type": "markdown",
      "metadata": {
        "id": "Oy7qcTbB0rj1",
        "colab_type": "text"
      },
      "source": [
        "変換したデータを書き出す"
      ]
    },
    {
      "cell_type": "code",
      "metadata": {
        "id": "F1gEgV4s1BLM",
        "colab_type": "code",
        "colab": {}
      },
      "source": [
        "df3.to_csv(\"/content/drive/My Drive/df3.csv\")"
      ],
      "execution_count": null,
      "outputs": []
    },
    {
      "cell_type": "markdown",
      "metadata": {
        "id": "5yYg24iUGw9l",
        "colab_type": "text"
      },
      "source": [
        "# APIを用いてデータを収集する"
      ]
    },
    {
      "cell_type": "markdown",
      "metadata": {
        "id": "KZDy8DXxG6cd",
        "colab_type": "text"
      },
      "source": [
        "ブラウザでAPIを使ってみる\n",
        "\n",
        "\n",
        "> https://earthquake.usgs.gov/fdsnws/event/1/query?format=geojson&starttime=2019-12-01&endtime=2019-12-02\n",
        "\n"
      ]
    },
    {
      "cell_type": "markdown",
      "metadata": {
        "id": "CFjUO03KG_Kf",
        "colab_type": "text"
      },
      "source": [
        "PythonでAPIを使う\n",
        "\n",
        "\n",
        "*   変数に収める\n",
        "*   変換する（json → csv）\n",
        "\n"
      ]
    },
    {
      "cell_type": "code",
      "metadata": {
        "id": "FB7QZDLaHS5G",
        "colab_type": "code",
        "colab": {}
      },
      "source": [
        "url = 'https://earthquake.usgs.gov/fdsnws/event/1/query'\n",
        "payload = {\n",
        "    \"format\":'geojson',\n",
        "    \"starttime\":'2019-12-01',\n",
        "    \"endtime\":'2019-12-02'\n",
        "}\n",
        "geo_response = requests.get(url, params=payload)\n",
        "geo_json = geo_response.json()\n",
        "\n",
        "data_json = json.dumps(geo_response.json()[\"features\"], indent=8)\n",
        "#print(data_json)"
      ],
      "execution_count": null,
      "outputs": []
    },
    {
      "cell_type": "code",
      "metadata": {
        "id": "8ar_-I4yC38s",
        "colab_type": "code",
        "colab": {
          "base_uri": "https://localhost:8080/",
          "height": 459
        },
        "outputId": "4132761d-554a-4e8b-fa88-b1e50c698ab8"
      },
      "source": [
        "geo_df = pd.DataFrame(data=geo_json[\"features\"]) \n",
        "geo_df[\"properties\"][0]"
      ],
      "execution_count": null,
      "outputs": [
        {
          "output_type": "execute_result",
          "data": {
            "text/plain": [
              "{'alert': None,\n",
              " 'cdi': None,\n",
              " 'code': '73310796',\n",
              " 'detail': 'https://earthquake.usgs.gov/fdsnws/event/1/query?eventid=nc73310796&format=geojson',\n",
              " 'dmin': 0.1356,\n",
              " 'felt': None,\n",
              " 'gap': 271,\n",
              " 'ids': ',nc73310796,',\n",
              " 'mag': 1.18,\n",
              " 'magType': 'md',\n",
              " 'mmi': None,\n",
              " 'net': 'nc',\n",
              " 'nst': 8,\n",
              " 'place': '8km NNW of Redwood Valley, CA',\n",
              " 'rms': 0.06,\n",
              " 'sig': 21,\n",
              " 'sources': ',nc,',\n",
              " 'status': 'reviewed',\n",
              " 'time': 1575244115740,\n",
              " 'title': 'M 1.2 - 8km NNW of Redwood Valley, CA',\n",
              " 'tsunami': 0,\n",
              " 'type': 'earthquake',\n",
              " 'types': ',geoserve,nearby-cities,origin,phase-data,scitech-link,',\n",
              " 'tz': -480,\n",
              " 'updated': 1575408903432,\n",
              " 'url': 'https://earthquake.usgs.gov/earthquakes/eventpage/nc73310796'}"
            ]
          },
          "metadata": {
            "tags": []
          },
          "execution_count": 125
        }
      ]
    },
    {
      "cell_type": "markdown",
      "metadata": {
        "id": "P36Czg_SHZ5R",
        "colab_type": "text"
      },
      "source": [
        "コードを書いて必要なデータを取り出す\n",
        "\n",
        "* for文\n",
        "* 関数化\n",
        "*   関数とfor文を組み合わせる。\n",
        "\n"
      ]
    },
    {
      "cell_type": "code",
      "metadata": {
        "id": "ETbL8S3uHlHj",
        "colab_type": "code",
        "colab": {}
      },
      "source": [
        "eq_cols = ['place', 'mag', 'time']\n",
        "eq_df = pd.DataFrame(columns=eq_cols)\n",
        "\n",
        "for index, row in geo_df.iterrows():\n",
        "  prop = row['properties']\n",
        "  df = pd.DataFrame({\n",
        "      'place':[prop['place']], \n",
        "      'mag':[prop['mag']],\n",
        "      'time':[prop['time']]\n",
        "    })\n",
        "  eq_df = eq_df.append(df)\n"
      ],
      "execution_count": null,
      "outputs": []
    },
    {
      "cell_type": "code",
      "metadata": {
        "id": "NQyJV2tePidc",
        "colab_type": "code",
        "colab": {}
      },
      "source": [
        "def eq_extract(starttime, endtime):\n",
        "  url = 'https://earthquake.usgs.gov/fdsnws/event/1/query'\n",
        "  payload = {\n",
        "      \"format\":'geojson',\n",
        "      \"starttime\":starttime,\n",
        "      \"endtime\":endtime\n",
        "    }\n",
        "  geo_response = requests.get(url, params=payload)\n",
        "  geo_json = geo_response.json()\n",
        "  geo_df = pd.DataFrame(data=geo_json[\"features\"]) \n",
        "  \n",
        "  eq_cols = ['place', 'mag', 'time']\n",
        "  eq_df = pd.DataFrame(columns=eq_cols)\n",
        "\n",
        "  for index, row in geo_df.iterrows():\n",
        "    prop = row['properties']\n",
        "    df = pd.DataFrame({\n",
        "        'place':[prop['place']], \n",
        "        'mag':[prop['mag']],\n",
        "        'time':[prop['time']]\n",
        "      })\n",
        "    eq_df = eq_df.append(df)\n",
        "  return eq_df"
      ],
      "execution_count": null,
      "outputs": []
    },
    {
      "cell_type": "code",
      "metadata": {
        "id": "UxB-Qz2LR29i",
        "colab_type": "code",
        "colab": {
          "base_uri": "https://localhost:8080/",
          "height": 419
        },
        "outputId": "d23d19c5-a8b3-4aa8-a31f-94652a1bf13a"
      },
      "source": [
        "eq_extract('2020-08-02','2020-08-03')"
      ],
      "execution_count": null,
      "outputs": [
        {
          "output_type": "execute_result",
          "data": {
            "text/html": [
              "<div>\n",
              "<style scoped>\n",
              "    .dataframe tbody tr th:only-of-type {\n",
              "        vertical-align: middle;\n",
              "    }\n",
              "\n",
              "    .dataframe tbody tr th {\n",
              "        vertical-align: top;\n",
              "    }\n",
              "\n",
              "    .dataframe thead th {\n",
              "        text-align: right;\n",
              "    }\n",
              "</style>\n",
              "<table border=\"1\" class=\"dataframe\">\n",
              "  <thead>\n",
              "    <tr style=\"text-align: right;\">\n",
              "      <th></th>\n",
              "      <th>place</th>\n",
              "      <th>mag</th>\n",
              "      <th>time</th>\n",
              "    </tr>\n",
              "  </thead>\n",
              "  <tbody>\n",
              "    <tr>\n",
              "      <th>0</th>\n",
              "      <td>28km ENE of Pine Valley, CA</td>\n",
              "      <td>1.51</td>\n",
              "      <td>1596412643450</td>\n",
              "    </tr>\n",
              "    <tr>\n",
              "      <th>0</th>\n",
              "      <td>7 km SE of Guthrie, Oklahoma</td>\n",
              "      <td>1.28</td>\n",
              "      <td>1596412497500</td>\n",
              "    </tr>\n",
              "    <tr>\n",
              "      <th>0</th>\n",
              "      <td>26 km SSE of Mina, Nevada</td>\n",
              "      <td>0.70</td>\n",
              "      <td>1596411443580</td>\n",
              "    </tr>\n",
              "    <tr>\n",
              "      <th>0</th>\n",
              "      <td>86 km WSW of Nanwalek, Alaska</td>\n",
              "      <td>1.20</td>\n",
              "      <td>1596411414782</td>\n",
              "    </tr>\n",
              "    <tr>\n",
              "      <th>0</th>\n",
              "      <td>4km NW of Boron, CA</td>\n",
              "      <td>1.57</td>\n",
              "      <td>1596411392610</td>\n",
              "    </tr>\n",
              "    <tr>\n",
              "      <th>...</th>\n",
              "      <td>...</td>\n",
              "      <td>...</td>\n",
              "      <td>...</td>\n",
              "    </tr>\n",
              "    <tr>\n",
              "      <th>0</th>\n",
              "      <td>8km S of Idyllwild, CA</td>\n",
              "      <td>0.39</td>\n",
              "      <td>1596327829650</td>\n",
              "    </tr>\n",
              "    <tr>\n",
              "      <th>0</th>\n",
              "      <td>2km NW of The Geysers, CA</td>\n",
              "      <td>1.02</td>\n",
              "      <td>1596327697440</td>\n",
              "    </tr>\n",
              "    <tr>\n",
              "      <th>0</th>\n",
              "      <td>9km WNW of Cobb, CA</td>\n",
              "      <td>0.57</td>\n",
              "      <td>1596326768240</td>\n",
              "    </tr>\n",
              "    <tr>\n",
              "      <th>0</th>\n",
              "      <td>22km ESE of Little Lake, CA</td>\n",
              "      <td>1.45</td>\n",
              "      <td>1596326689050</td>\n",
              "    </tr>\n",
              "    <tr>\n",
              "      <th>0</th>\n",
              "      <td>34 km NW of Güiria, Venezuela</td>\n",
              "      <td>5.00</td>\n",
              "      <td>1596326626440</td>\n",
              "    </tr>\n",
              "  </tbody>\n",
              "</table>\n",
              "<p>363 rows × 3 columns</p>\n",
              "</div>"
            ],
            "text/plain": [
              "                            place   mag           time\n",
              "0     28km ENE of Pine Valley, CA  1.51  1596412643450\n",
              "0    7 km SE of Guthrie, Oklahoma  1.28  1596412497500\n",
              "0       26 km SSE of Mina, Nevada  0.70  1596411443580\n",
              "0   86 km WSW of Nanwalek, Alaska  1.20  1596411414782\n",
              "0             4km NW of Boron, CA  1.57  1596411392610\n",
              "..                            ...   ...            ...\n",
              "0          8km S of Idyllwild, CA  0.39  1596327829650\n",
              "0       2km NW of The Geysers, CA  1.02  1596327697440\n",
              "0             9km WNW of Cobb, CA  0.57  1596326768240\n",
              "0     22km ESE of Little Lake, CA  1.45  1596326689050\n",
              "0   34 km NW of Güiria, Venezuela  5.00  1596326626440\n",
              "\n",
              "[363 rows x 3 columns]"
            ]
          },
          "metadata": {
            "tags": []
          },
          "execution_count": 149
        }
      ]
    }
  ]
}