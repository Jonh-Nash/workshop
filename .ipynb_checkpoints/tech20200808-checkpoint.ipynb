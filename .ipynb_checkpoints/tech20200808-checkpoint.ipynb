{
 "cells": [
  {
   "cell_type": "markdown",
   "metadata": {
    "colab_type": "text",
    "id": "jOFWLhtfGiR9"
   },
   "source": [
    "# 準備する"
   ]
  },
  {
   "cell_type": "markdown",
   "metadata": {
    "colab_type": "text",
    "id": "hfB97pvBGF4a"
   },
   "source": [
    "ライブラリの読み込み"
   ]
  },
  {
   "cell_type": "code",
   "execution_count": null,
   "metadata": {
    "colab": {},
    "colab_type": "code",
    "id": "UJGDE8nwD7Yo"
   },
   "outputs": [],
   "source": [
    "from google.colab import drive\n",
    "import pandas as pd\n",
    "import numpy as np\n",
    "import requests\n",
    "import json"
   ]
  },
  {
   "cell_type": "markdown",
   "metadata": {
    "colab_type": "text",
    "id": "tj1I1sk9F88N"
   },
   "source": [
    "Google Driveのマウント"
   ]
  },
  {
   "cell_type": "code",
   "execution_count": null,
   "metadata": {
    "colab": {
     "base_uri": "https://localhost:8080/",
     "height": 122
    },
    "colab_type": "code",
    "id": "jTEleYzNEA6d",
    "outputId": "5b10c81d-ded9-4cdb-edce-4e6240eee29f"
   },
   "outputs": [],
   "source": [
    "drive.mount('/content/drive')"
   ]
  },
  {
   "cell_type": "markdown",
   "metadata": {
    "colab_type": "text",
    "id": "TEZhCGlDGoaS"
   },
   "source": [
    "# ローカル上のデータを読み書きする"
   ]
  },
  {
   "cell_type": "markdown",
   "metadata": {
    "colab_type": "text",
    "id": "NYUI_njj0FBA"
   },
   "source": [
    "データフレームの作成\n",
    "\n",
    "\n",
    "> 今回は深くは説明しません。データフレームというのは、RやPythonなどのプログラミング言語で、表形式をうまく扱うために生まれたデータ形式のことです。\n",
    "\n"
   ]
  },
  {
   "cell_type": "code",
   "execution_count": null,
   "metadata": {
    "colab": {
     "base_uri": "https://localhost:8080/",
     "height": 142
    },
    "colab_type": "code",
    "id": "kWZJu3Eu0IL4",
    "outputId": "c98f4b96-5c1f-4332-c436-4d2434ce7a80"
   },
   "outputs": [
    {
     "data": {
      "text/html": [
       "<div>\n",
       "<style scoped>\n",
       "    .dataframe tbody tr th:only-of-type {\n",
       "        vertical-align: middle;\n",
       "    }\n",
       "\n",
       "    .dataframe tbody tr th {\n",
       "        vertical-align: top;\n",
       "    }\n",
       "\n",
       "    .dataframe thead th {\n",
       "        text-align: right;\n",
       "    }\n",
       "</style>\n",
       "<table border=\"1\" class=\"dataframe\">\n",
       "  <thead>\n",
       "    <tr style=\"text-align: right;\">\n",
       "      <th></th>\n",
       "      <th>A</th>\n",
       "      <th>B</th>\n",
       "      <th>C</th>\n",
       "    </tr>\n",
       "  </thead>\n",
       "  <tbody>\n",
       "    <tr>\n",
       "      <th>ONE</th>\n",
       "      <td>A1</td>\n",
       "      <td>B1</td>\n",
       "      <td>C1</td>\n",
       "    </tr>\n",
       "    <tr>\n",
       "      <th>TWO</th>\n",
       "      <td>A2</td>\n",
       "      <td>B2</td>\n",
       "      <td>C2</td>\n",
       "    </tr>\n",
       "    <tr>\n",
       "      <th>THREE</th>\n",
       "      <td>A3</td>\n",
       "      <td>B3</td>\n",
       "      <td>C3</td>\n",
       "    </tr>\n",
       "  </tbody>\n",
       "</table>\n",
       "</div>"
      ],
      "text/plain": [
       "        A   B   C\n",
       "ONE    A1  B1  C1\n",
       "TWO    A2  B2  C2\n",
       "THREE  A3  B3  C3"
      ]
     },
     "execution_count": 35,
     "metadata": {
      "tags": []
     },
     "output_type": "execute_result"
    }
   ],
   "source": [
    "df1 = pd.DataFrame({'A': ['A1', 'A2', 'A3'],\n",
    "                   'B': ['B1', 'B2', 'B3'],\n",
    "                   'C': ['C1', 'C2', 'C3']},\n",
    "                  index=['ONE', 'TWO', 'THREE'])\n",
    "df1"
   ]
  },
  {
   "cell_type": "markdown",
   "metadata": {
    "colab_type": "text",
    "id": "X4jnrcCSGuTv"
   },
   "source": [
    "データを書き出す\n",
    "\n",
    "\n",
    "\n",
    "> to_csv()というメソッドを使います。引数は文字列でファイルのPathをとります。\n",
    "\n"
   ]
  },
  {
   "cell_type": "code",
   "execution_count": null,
   "metadata": {
    "colab": {},
    "colab_type": "code",
    "id": "6SwTL_0gHVTQ"
   },
   "outputs": [],
   "source": [
    "df1.to_csv(\"/content/drive/My Drive/df1.csv\")"
   ]
  },
  {
   "cell_type": "markdown",
   "metadata": {
    "colab_type": "text",
    "id": "SxT0Dlr6GR6i"
   },
   "source": [
    "データを読み込む\n",
    "\n",
    "\n",
    "> Pandasのread_csv()という関数を使います。引数は文字列でファイルのPathをとります。絶対Pathでも相対Pathでもかまいません。\n",
    "\n"
   ]
  },
  {
   "cell_type": "code",
   "execution_count": null,
   "metadata": {
    "colab": {},
    "colab_type": "code",
    "id": "WDfgz6_9Gboh"
   },
   "outputs": [],
   "source": [
    "df2 = pd.read_csv(\"/content/drive/My Drive/df1.csv\",index_col=[0])\n",
    "df2 = pd.read_csv(\"../../df1.csv\",index_col=[0])"
   ]
  },
  {
   "cell_type": "markdown",
   "metadata": {
    "colab_type": "text",
    "id": "xi5iFdhdGada"
   },
   "source": [
    "データを変換する\n",
    "\n",
    "\n",
    "> appendというメソッドを使って新たな一列を結合します。"
   ]
  },
  {
   "cell_type": "code",
   "execution_count": null,
   "metadata": {
    "colab": {},
    "colab_type": "code",
    "id": "c12o208f0rZY"
   },
   "outputs": [],
   "source": [
    "s = pd.Series(['A4', 'B4', 'C4'], index=df2.columns, name='FOUR')\n",
    "df3 = df2.append(s)"
   ]
  },
  {
   "cell_type": "markdown",
   "metadata": {
    "colab_type": "text",
    "id": "Oy7qcTbB0rj1"
   },
   "source": [
    "変換したデータを書き出す"
   ]
  },
  {
   "cell_type": "code",
   "execution_count": null,
   "metadata": {
    "colab": {},
    "colab_type": "code",
    "id": "F1gEgV4s1BLM"
   },
   "outputs": [],
   "source": [
    "df3.to_csv(\"/content/drive/My Drive/df3.csv\")"
   ]
  },
  {
   "cell_type": "markdown",
   "metadata": {
    "colab_type": "text",
    "id": "5yYg24iUGw9l"
   },
   "source": [
    "# APIを用いてデータを収集する"
   ]
  },
  {
   "cell_type": "markdown",
   "metadata": {
    "colab_type": "text",
    "id": "KZDy8DXxG6cd"
   },
   "source": [
    "ブラウザでAPIを使ってみる\n",
    "\n",
    "\n",
    "> https://earthquake.usgs.gov/fdsnws/event/1/query?format=geojson&starttime=2019-12-01&endtime=2019-12-02\n",
    "\n"
   ]
  },
  {
   "cell_type": "markdown",
   "metadata": {
    "colab_type": "text",
    "id": "CFjUO03KG_Kf"
   },
   "source": [
    "PythonでAPIを使う\n",
    "\n",
    "\n",
    "*   変数に収める\n",
    "*   変換する（json → csv）\n",
    "\n"
   ]
  },
  {
   "cell_type": "code",
   "execution_count": null,
   "metadata": {
    "colab": {},
    "colab_type": "code",
    "id": "FB7QZDLaHS5G"
   },
   "outputs": [],
   "source": [
    "url = 'https://earthquake.usgs.gov/fdsnws/event/1/query'\n",
    "payload = {\n",
    "    \"format\":'geojson',\n",
    "    \"starttime\":'2019-12-01',\n",
    "    \"endtime\":'2019-12-02'\n",
    "}\n",
    "geo_response = requests.get(url, params=payload)\n",
    "geo_json = geo_response.json()\n",
    "\n",
    "data_json = json.dumps(geo_response.json()[\"features\"], indent=8)\n",
    "#print(data_json)"
   ]
  },
  {
   "cell_type": "code",
   "execution_count": null,
   "metadata": {
    "colab": {
     "base_uri": "https://localhost:8080/",
     "height": 459
    },
    "colab_type": "code",
    "id": "8ar_-I4yC38s",
    "outputId": "4132761d-554a-4e8b-fa88-b1e50c698ab8"
   },
   "outputs": [
    {
     "data": {
      "text/plain": [
       "{'alert': None,\n",
       " 'cdi': None,\n",
       " 'code': '73310796',\n",
       " 'detail': 'https://earthquake.usgs.gov/fdsnws/event/1/query?eventid=nc73310796&format=geojson',\n",
       " 'dmin': 0.1356,\n",
       " 'felt': None,\n",
       " 'gap': 271,\n",
       " 'ids': ',nc73310796,',\n",
       " 'mag': 1.18,\n",
       " 'magType': 'md',\n",
       " 'mmi': None,\n",
       " 'net': 'nc',\n",
       " 'nst': 8,\n",
       " 'place': '8km NNW of Redwood Valley, CA',\n",
       " 'rms': 0.06,\n",
       " 'sig': 21,\n",
       " 'sources': ',nc,',\n",
       " 'status': 'reviewed',\n",
       " 'time': 1575244115740,\n",
       " 'title': 'M 1.2 - 8km NNW of Redwood Valley, CA',\n",
       " 'tsunami': 0,\n",
       " 'type': 'earthquake',\n",
       " 'types': ',geoserve,nearby-cities,origin,phase-data,scitech-link,',\n",
       " 'tz': -480,\n",
       " 'updated': 1575408903432,\n",
       " 'url': 'https://earthquake.usgs.gov/earthquakes/eventpage/nc73310796'}"
      ]
     },
     "execution_count": 125,
     "metadata": {
      "tags": []
     },
     "output_type": "execute_result"
    }
   ],
   "source": [
    "geo_df = pd.DataFrame(data=geo_json[\"features\"]) \n",
    "geo_df[\"properties\"][0]"
   ]
  },
  {
   "cell_type": "markdown",
   "metadata": {
    "colab_type": "text",
    "id": "P36Czg_SHZ5R"
   },
   "source": [
    "コードを書いて必要なデータを取り出す\n",
    "\n",
    "* for文\n",
    "* 関数化\n",
    "*   関数とfor文を組み合わせる。\n",
    "\n"
   ]
  },
  {
   "cell_type": "code",
   "execution_count": null,
   "metadata": {
    "colab": {},
    "colab_type": "code",
    "id": "ETbL8S3uHlHj"
   },
   "outputs": [],
   "source": [
    "eq_cols = ['place', 'mag', 'time']\n",
    "eq_df = pd.DataFrame(columns=eq_cols)\n",
    "\n",
    "for index, row in geo_df.iterrows():\n",
    "  prop = row['properties']\n",
    "  df = pd.DataFrame({\n",
    "      'place':[prop['place']], \n",
    "      'mag':[prop['mag']],\n",
    "      'time':[prop['time']]\n",
    "    })\n",
    "  eq_df = eq_df.append(df)\n"
   ]
  },
  {
   "cell_type": "code",
   "execution_count": null,
   "metadata": {
    "colab": {},
    "colab_type": "code",
    "id": "NQyJV2tePidc"
   },
   "outputs": [],
   "source": [
    "def eq_extract(starttime, endtime):\n",
    "  url = 'https://earthquake.usgs.gov/fdsnws/event/1/query'\n",
    "  payload = {\n",
    "      \"format\":'geojson',\n",
    "      \"starttime\":starttime,\n",
    "      \"endtime\":endtime\n",
    "    }\n",
    "  geo_response = requests.get(url, params=payload)\n",
    "  geo_json = geo_response.json()\n",
    "  geo_df = pd.DataFrame(data=geo_json[\"features\"]) \n",
    "  \n",
    "  eq_cols = ['place', 'mag', 'time']\n",
    "  eq_df = pd.DataFrame(columns=eq_cols)\n",
    "\n",
    "  for index, row in geo_df.iterrows():\n",
    "    prop = row['properties']\n",
    "    df = pd.DataFrame({\n",
    "        'place':[prop['place']], \n",
    "        'mag':[prop['mag']],\n",
    "        'time':[prop['time']]\n",
    "      })\n",
    "    eq_df = eq_df.append(df)\n",
    "  return eq_df"
   ]
  },
  {
   "cell_type": "code",
   "execution_count": null,
   "metadata": {
    "colab": {
     "base_uri": "https://localhost:8080/",
     "height": 419
    },
    "colab_type": "code",
    "id": "UxB-Qz2LR29i",
    "outputId": "d23d19c5-a8b3-4aa8-a31f-94652a1bf13a"
   },
   "outputs": [
    {
     "data": {
      "text/html": [
       "<div>\n",
       "<style scoped>\n",
       "    .dataframe tbody tr th:only-of-type {\n",
       "        vertical-align: middle;\n",
       "    }\n",
       "\n",
       "    .dataframe tbody tr th {\n",
       "        vertical-align: top;\n",
       "    }\n",
       "\n",
       "    .dataframe thead th {\n",
       "        text-align: right;\n",
       "    }\n",
       "</style>\n",
       "<table border=\"1\" class=\"dataframe\">\n",
       "  <thead>\n",
       "    <tr style=\"text-align: right;\">\n",
       "      <th></th>\n",
       "      <th>place</th>\n",
       "      <th>mag</th>\n",
       "      <th>time</th>\n",
       "    </tr>\n",
       "  </thead>\n",
       "  <tbody>\n",
       "    <tr>\n",
       "      <th>0</th>\n",
       "      <td>28km ENE of Pine Valley, CA</td>\n",
       "      <td>1.51</td>\n",
       "      <td>1596412643450</td>\n",
       "    </tr>\n",
       "    <tr>\n",
       "      <th>0</th>\n",
       "      <td>7 km SE of Guthrie, Oklahoma</td>\n",
       "      <td>1.28</td>\n",
       "      <td>1596412497500</td>\n",
       "    </tr>\n",
       "    <tr>\n",
       "      <th>0</th>\n",
       "      <td>26 km SSE of Mina, Nevada</td>\n",
       "      <td>0.70</td>\n",
       "      <td>1596411443580</td>\n",
       "    </tr>\n",
       "    <tr>\n",
       "      <th>0</th>\n",
       "      <td>86 km WSW of Nanwalek, Alaska</td>\n",
       "      <td>1.20</td>\n",
       "      <td>1596411414782</td>\n",
       "    </tr>\n",
       "    <tr>\n",
       "      <th>0</th>\n",
       "      <td>4km NW of Boron, CA</td>\n",
       "      <td>1.57</td>\n",
       "      <td>1596411392610</td>\n",
       "    </tr>\n",
       "    <tr>\n",
       "      <th>...</th>\n",
       "      <td>...</td>\n",
       "      <td>...</td>\n",
       "      <td>...</td>\n",
       "    </tr>\n",
       "    <tr>\n",
       "      <th>0</th>\n",
       "      <td>8km S of Idyllwild, CA</td>\n",
       "      <td>0.39</td>\n",
       "      <td>1596327829650</td>\n",
       "    </tr>\n",
       "    <tr>\n",
       "      <th>0</th>\n",
       "      <td>2km NW of The Geysers, CA</td>\n",
       "      <td>1.02</td>\n",
       "      <td>1596327697440</td>\n",
       "    </tr>\n",
       "    <tr>\n",
       "      <th>0</th>\n",
       "      <td>9km WNW of Cobb, CA</td>\n",
       "      <td>0.57</td>\n",
       "      <td>1596326768240</td>\n",
       "    </tr>\n",
       "    <tr>\n",
       "      <th>0</th>\n",
       "      <td>22km ESE of Little Lake, CA</td>\n",
       "      <td>1.45</td>\n",
       "      <td>1596326689050</td>\n",
       "    </tr>\n",
       "    <tr>\n",
       "      <th>0</th>\n",
       "      <td>34 km NW of Güiria, Venezuela</td>\n",
       "      <td>5.00</td>\n",
       "      <td>1596326626440</td>\n",
       "    </tr>\n",
       "  </tbody>\n",
       "</table>\n",
       "<p>363 rows × 3 columns</p>\n",
       "</div>"
      ],
      "text/plain": [
       "                            place   mag           time\n",
       "0     28km ENE of Pine Valley, CA  1.51  1596412643450\n",
       "0    7 km SE of Guthrie, Oklahoma  1.28  1596412497500\n",
       "0       26 km SSE of Mina, Nevada  0.70  1596411443580\n",
       "0   86 km WSW of Nanwalek, Alaska  1.20  1596411414782\n",
       "0             4km NW of Boron, CA  1.57  1596411392610\n",
       "..                            ...   ...            ...\n",
       "0          8km S of Idyllwild, CA  0.39  1596327829650\n",
       "0       2km NW of The Geysers, CA  1.02  1596327697440\n",
       "0             9km WNW of Cobb, CA  0.57  1596326768240\n",
       "0     22km ESE of Little Lake, CA  1.45  1596326689050\n",
       "0   34 km NW of Güiria, Venezuela  5.00  1596326626440\n",
       "\n",
       "[363 rows x 3 columns]"
      ]
     },
     "execution_count": 149,
     "metadata": {
      "tags": []
     },
     "output_type": "execute_result"
    }
   ],
   "source": [
    "eq_extract('2020-08-02','2020-08-03')"
   ]
  }
 ],
 "metadata": {
  "colab": {
   "collapsed_sections": [],
   "name": "tech20200808.ipynb",
   "provenance": []
  },
  "kernelspec": {
   "display_name": "Python 3",
   "language": "python",
   "name": "python3"
  },
  "language_info": {
   "codemirror_mode": {
    "name": "ipython",
    "version": 3
   },
   "file_extension": ".py",
   "mimetype": "text/x-python",
   "name": "python",
   "nbconvert_exporter": "python",
   "pygments_lexer": "ipython3",
   "version": "3.7.3"
  }
 },
 "nbformat": 4,
 "nbformat_minor": 1
}
