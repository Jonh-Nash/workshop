{
  "nbformat": 4,
  "nbformat_minor": 0,
  "metadata": {
    "colab": {
      "name": "tech20200808_配布用.ipynb",
      "provenance": [],
      "collapsed_sections": []
    },
    "kernelspec": {
      "name": "python3",
      "display_name": "Python 3"
    }
  },
  "cells": [
    {
      "cell_type": "markdown",
      "metadata": {
        "id": "jOFWLhtfGiR9",
        "colab_type": "text"
      },
      "source": [
        "# 準備する"
      ]
    },
    {
      "cell_type": "markdown",
      "metadata": {
        "id": "hfB97pvBGF4a",
        "colab_type": "text"
      },
      "source": [
        "ライブラリの読み込み"
      ]
    },
    {
      "cell_type": "code",
      "metadata": {
        "id": "UJGDE8nwD7Yo",
        "colab_type": "code",
        "colab": {}
      },
      "source": [
        "from google.colab import drive\n",
        "import pandas as pd\n",
        "import numpy as np\n",
        "import requests\n",
        "import json"
      ],
      "execution_count": 2,
      "outputs": []
    },
    {
      "cell_type": "markdown",
      "metadata": {
        "id": "tj1I1sk9F88N",
        "colab_type": "text"
      },
      "source": [
        "Google Driveのマウント"
      ]
    },
    {
      "cell_type": "code",
      "metadata": {
        "id": "jTEleYzNEA6d",
        "colab_type": "code",
        "colab": {}
      },
      "source": [
        "drive.mount('/content/drive')"
      ],
      "execution_count": null,
      "outputs": []
    },
    {
      "cell_type": "markdown",
      "metadata": {
        "id": "TEZhCGlDGoaS",
        "colab_type": "text"
      },
      "source": [
        "# ローカル上のデータを読み書きする"
      ]
    },
    {
      "cell_type": "markdown",
      "metadata": {
        "id": "NYUI_njj0FBA",
        "colab_type": "text"
      },
      "source": [
        "データフレームの作成\n",
        "\n",
        "\n",
        "> 今回は深くは説明しません。データフレームというのは、RやPythonなどのプログラミング言語で、表形式をうまく扱うために生まれたデータ形式のことです。\n",
        "\n"
      ]
    },
    {
      "cell_type": "code",
      "metadata": {
        "id": "kWZJu3Eu0IL4",
        "colab_type": "code",
        "colab": {}
      },
      "source": [
        "df1 = pd.DataFrame({'A': ['A1', 'A2', 'A3'],\n",
        "                   'B': ['B1', 'B2', 'B3'],\n",
        "                   'C': ['C1', 'C2', 'C3']},\n",
        "                  index=['ONE', 'TWO', 'THREE'])\n",
        "df1"
      ],
      "execution_count": null,
      "outputs": []
    },
    {
      "cell_type": "markdown",
      "metadata": {
        "id": "X4jnrcCSGuTv",
        "colab_type": "text"
      },
      "source": [
        "データを書き出す\n",
        "\n",
        "\n",
        "\n",
        "> to_csv()というメソッドを使います。引数は文字列でファイルのPathをとります。\n",
        "\n"
      ]
    },
    {
      "cell_type": "code",
      "metadata": {
        "id": "6SwTL_0gHVTQ",
        "colab_type": "code",
        "colab": {}
      },
      "source": [
        "# 見本コード\n",
        "df1.to_csv(\"/content/drive/My Drive/df1.csv\")\n",
        "\n",
        "# 【問題】違う場所にdf1を書き出してみよう。"
      ],
      "execution_count": null,
      "outputs": []
    },
    {
      "cell_type": "markdown",
      "metadata": {
        "id": "SxT0Dlr6GR6i",
        "colab_type": "text"
      },
      "source": [
        "データを読み込む\n",
        "\n",
        "\n",
        "> Pandasのread_csv()という関数を使います。引数は文字列でファイルのPathをとります。絶対Pathでも相対Pathでもかまいません。\n",
        "\n"
      ]
    },
    {
      "cell_type": "code",
      "metadata": {
        "id": "WDfgz6_9Gboh",
        "colab_type": "code",
        "colab": {}
      },
      "source": [
        "# 見本コード\n",
        "df2 = pd.read_csv(\"/content/drive/My Drive/df1.csv\",index_col=[0])\n",
        "# 【問題】違う場所から読み込んでみよう"
      ],
      "execution_count": null,
      "outputs": []
    },
    {
      "cell_type": "markdown",
      "metadata": {
        "id": "xi5iFdhdGada",
        "colab_type": "text"
      },
      "source": [
        "データを変換する\n",
        "\n",
        "\n",
        "> appendというメソッドを使って新たな一列を結合します。"
      ]
    },
    {
      "cell_type": "code",
      "metadata": {
        "id": "c12o208f0rZY",
        "colab_type": "code",
        "colab": {}
      },
      "source": [
        "# 新たなデータフレーム（一行文）を作る。\n",
        "s = pd.Series(['A4', 'B4', 'C4'], index=df2.columns, name='FOUR')\n",
        "# 結合する。\n",
        "df3 = df2.append(s)"
      ],
      "execution_count": null,
      "outputs": []
    },
    {
      "cell_type": "markdown",
      "metadata": {
        "id": "Oy7qcTbB0rj1",
        "colab_type": "text"
      },
      "source": [
        "変換したデータを書き出す"
      ]
    },
    {
      "cell_type": "code",
      "metadata": {
        "id": "F1gEgV4s1BLM",
        "colab_type": "code",
        "colab": {}
      },
      "source": [
        "# 【問題】df3を書き出してみよう"
      ],
      "execution_count": null,
      "outputs": []
    },
    {
      "cell_type": "markdown",
      "metadata": {
        "id": "5yYg24iUGw9l",
        "colab_type": "text"
      },
      "source": [
        "# APIを用いてデータを収集する"
      ]
    },
    {
      "cell_type": "markdown",
      "metadata": {
        "id": "LN-pMQTtLWaN",
        "colab_type": "text"
      },
      "source": [
        "\n",
        "ブラウザでAPIを使ってみよう。\n",
        "> http://zipcloud.ibsnet.co.jp/api/search?zipcode=2600012\n",
        "\n",
        "zipcodeの値をいろいろ変えて、返ってくる値が変わることを確認しよう。\n"
      ]
    },
    {
      "cell_type": "markdown",
      "metadata": {
        "id": "CFjUO03KG_Kf",
        "colab_type": "text"
      },
      "source": [
        "PythonでAPIを使う\n",
        "\n"
      ]
    },
    {
      "cell_type": "code",
      "metadata": {
        "id": "3H8b7fRSLnyF",
        "colab_type": "code",
        "colab": {
          "base_uri": "https://localhost:8080/",
          "height": 187
        },
        "outputId": "02bfda99-b5b7-4502-d7b0-33edac34e575"
      },
      "source": [
        "url = 'http://zipcloud.ibsnet.co.jp/api/search'\n",
        "payload = {\n",
        "    \"zipcode\":'2600034',\n",
        "}\n",
        "response = requests.get(url, params=payload)\n",
        "response.json()"
      ],
      "execution_count": 9,
      "outputs": [
        {
          "output_type": "execute_result",
          "data": {
            "text/plain": [
              "{'message': None,\n",
              " 'results': [{'address1': '千葉県',\n",
              "   'address2': '千葉市中央区',\n",
              "   'address3': '汐見丘町',\n",
              "   'kana1': 'ﾁﾊﾞｹﾝ',\n",
              "   'kana2': 'ﾁﾊﾞｼﾁｭｳｵｳｸ',\n",
              "   'kana3': 'ｼｵﾐｶﾞｵｶﾁｮｳ',\n",
              "   'prefcode': '12',\n",
              "   'zipcode': '2600034'}],\n",
              " 'status': 200}"
            ]
          },
          "metadata": {
            "tags": []
          },
          "execution_count": 9
        }
      ]
    },
    {
      "cell_type": "code",
      "metadata": {
        "id": "_Ae7aDCfMa1c",
        "colab_type": "code",
        "colab": {
          "base_uri": "https://localhost:8080/",
          "height": 289
        },
        "outputId": "fb182c5a-81bd-4768-f5fb-29c00ee90180"
      },
      "source": [
        "# JSONデータをきれいに見る方法\n",
        "data_json = json.dumps(response.json(), indent=8)\n",
        "print(data_json)"
      ],
      "execution_count": 10,
      "outputs": [
        {
          "output_type": "stream",
          "text": [
            "{\n",
            "        \"message\": null,\n",
            "        \"results\": [\n",
            "                {\n",
            "                        \"address1\": \"\\u5343\\u8449\\u770c\",\n",
            "                        \"address2\": \"\\u5343\\u8449\\u5e02\\u4e2d\\u592e\\u533a\",\n",
            "                        \"address3\": \"\\u6c50\\u898b\\u4e18\\u753a\",\n",
            "                        \"kana1\": \"\\uff81\\uff8a\\uff9e\\uff79\\uff9d\",\n",
            "                        \"kana2\": \"\\uff81\\uff8a\\uff9e\\uff7c\\uff81\\uff6d\\uff73\\uff75\\uff73\\uff78\",\n",
            "                        \"kana3\": \"\\uff7c\\uff75\\uff90\\uff76\\uff9e\\uff75\\uff76\\uff81\\uff6e\\uff73\",\n",
            "                        \"prefcode\": \"12\",\n",
            "                        \"zipcode\": \"2600034\"\n",
            "                }\n",
            "        ],\n",
            "        \"status\": 200\n",
            "}\n"
          ],
          "name": "stdout"
        }
      ]
    },
    {
      "cell_type": "code",
      "metadata": {
        "id": "cx2tPB4NMkfE",
        "colab_type": "code",
        "colab": {}
      },
      "source": [
        "# JSONデータの中身の見方\n",
        "response.json()[\"results\"]\n",
        "# 【問題】いろいろ取り出してみよう"
      ],
      "execution_count": null,
      "outputs": []
    },
    {
      "cell_type": "markdown",
      "metadata": {
        "id": "TFrH1FasNC17",
        "colab_type": "text"
      },
      "source": [
        "地震のデータをとってみよう\n",
        "> https://earthquake.usgs.gov/fdsnws/event/1/query?format=geojson&starttime=2019-12-01&endtime=2019-12-02"
      ]
    },
    {
      "cell_type": "code",
      "metadata": {
        "id": "FB7QZDLaHS5G",
        "colab_type": "code",
        "colab": {}
      },
      "source": [
        "# 【問題】地震のデータをPythonで扱ってみよう\n",
        "# ヒント　payload内は, で区切ると複数のkey, valueを取れるよ。\n",
        "payload = {\n",
        "    \"aaa\":'',\n",
        "    \"bbb\":'',\n",
        "    \"ccc\":''\n",
        "    }"
      ],
      "execution_count": 16,
      "outputs": []
    },
    {
      "cell_type": "code",
      "metadata": {
        "id": "0-rPDMN8OL3K",
        "colab_type": "code",
        "colab": {}
      },
      "source": [
        "# とってきたJSONデータをデータフレームにしよう。\n",
        "geo_json = geo_response.json()\n",
        "geo_df = pd.DataFrame(data=geo_json[\"features\"]) "
      ],
      "execution_count": null,
      "outputs": []
    },
    {
      "cell_type": "markdown",
      "metadata": {
        "id": "P36Czg_SHZ5R",
        "colab_type": "text"
      },
      "source": [
        "データが入れ子になっている部分がまだあるよ。\n",
        "コードを書いて必要なデータを取り出して表形式にしてみよう。\n",
        "\n"
      ]
    },
    {
      "cell_type": "code",
      "metadata": {
        "id": "ETbL8S3uHlHj",
        "colab_type": "code",
        "colab": {}
      },
      "source": [
        "# 空のデータフレームを作ろう\n",
        "eq_cols = ['place', 'mag', 'time']\n",
        "eq_df = pd.DataFrame(columns=eq_cols)"
      ],
      "execution_count": null,
      "outputs": []
    },
    {
      "cell_type": "code",
      "metadata": {
        "id": "D5KAbIthPOsY",
        "colab_type": "code",
        "colab": {}
      },
      "source": [
        "# 必要なデータを取り出して表形式にしよう\n",
        "for index, row in geo_df.iterrows():\n",
        "  prop = row['properties']\n",
        "  df = pd.DataFrame({\n",
        "      'place':[prop['place']], \n",
        "      'mag':[prop['mag']],\n",
        "      'time':[prop['time']]\n",
        "    })\n",
        "  eq_df = eq_df.append(df)"
      ],
      "execution_count": null,
      "outputs": []
    },
    {
      "cell_type": "code",
      "metadata": {
        "id": "NQyJV2tePidc",
        "colab_type": "code",
        "colab": {}
      },
      "source": [
        "# 関数化して、任意の日にちのデータを取って来れるようにしよう。\n",
        "# 関数の例\n",
        "def add(x, y):\n",
        "  z = x + y\n",
        "  return x\n",
        "# 関数の呼び出し\n",
        "add(1, 2)\n",
        "# 関数を変数に入れる。\n",
        "z = add(3,4)\n",
        "\n",
        "# 【問題】地震のやつを関数にしてみよう。任意の日にちのデータを取れるようにしよう。"
      ],
      "execution_count": 17,
      "outputs": []
    }
  ]
}